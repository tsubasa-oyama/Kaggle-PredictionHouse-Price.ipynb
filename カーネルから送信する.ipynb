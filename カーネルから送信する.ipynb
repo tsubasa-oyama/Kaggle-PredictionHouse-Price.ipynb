{
 "cells": [
  {
   "cell_type": "markdown",
   "metadata": {},
   "source": [
    "\n",
    "\n",
    "これは機械学習コースの一部です。 このステップでは、モデルを機械学習コンテストに提出する方法を学習します。 それは楽しいですし、スキルが向上し続けるにつれてあなたの進歩を見る方法を提供します。\n",
    "\n",
    "前書き\n",
    "機械学習コンテストは、スキルを向上させ、データサイエンティストとしての進歩を測定するための優れた方法です。 Kaggleのコンテストのデータを使用している場合は、ノートブックから簡単に送信できます。 方法は次のとおりです。\n",
    "\n",
    "例\n",
    "ここでは、最小限のデータ設定のみを行っているため、コンテストにモデリング結果を提出する方法に集中できます。 他のチュートリアルでは、優れたモデルの構築方法を学習します。 したがって、この例のモデルはかなり単純です。 データの読み取り、予測変数の選択、モデルの近似を行うコードから始めます。"
   ]
  },
  {
   "cell_type": "code",
   "execution_count": null,
   "metadata": {},
   "outputs": [],
   "source": [
    "import numpy as np\n",
    "import pandas as pd\n",
    "from sklearn.ensemble import RandomForestRegressor\n",
    "\n",
    "train=pd.read_csv(\"train.csv\")\n",
    "\n",
    "train_y=train.SalePrice\n",
    "predictor_cols=[\"LotArea\",\"OverallQual\",\"YearBuilt\",\"TotRmsAbvGrd\"]\n",
    "\n",
    "train_x=train[predictor_cols]\n",
    "\n",
    "my_model=RandomForestRegressor()\n",
    "my_model.fit(train_x,train_y"
   ]
  },
  {
   "cell_type": "markdown",
   "metadata": {},
   "source": [
    "トレーニングデータに加えて、テストデータがあります。 これは、test.csvというタイトルのファイルに頻繁に保存されます。 このデータには、ターゲット（y）を含む列は含まれません。これは、予測して送信する必要があるためです。 これを行うサンプルコードを次に示します。"
   ]
  },
  {
   "cell_type": "code",
   "execution_count": 7,
   "metadata": {},
   "outputs": [
    {
     "name": "stdout",
     "output_type": "stream",
     "text": [
      "[129450. 205400. 150500. ... 150460. 152700. 276650.]\n"
     ]
    }
   ],
   "source": [
    "test = pd.read_csv(\"test.csv\")\n",
    "test_X=test[predictor_cols]\n",
    "predicted_prices=my_model.predict(test_X)\n",
    "print(predicted_prices)"
   ]
  },
  {
   "cell_type": "code",
   "execution_count": null,
   "metadata": {},
   "outputs": [],
   "source": []
  }
 ],
 "metadata": {
  "kernelspec": {
   "display_name": "Python 3",
   "language": "python",
   "name": "python3"
  },
  "language_info": {
   "codemirror_mode": {
    "name": "ipython",
    "version": 3
   },
   "file_extension": ".py",
   "mimetype": "text/x-python",
   "name": "python",
   "nbconvert_exporter": "python",
   "pygments_lexer": "ipython3",
   "version": "3.7.4"
  }
 },
 "nbformat": 4,
 "nbformat_minor": 2
}
